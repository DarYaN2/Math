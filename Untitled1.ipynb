{
  "nbformat": 4,
  "nbformat_minor": 0,
  "metadata": {
    "colab": {
      "provenance": [],
      "authorship_tag": "ABX9TyOCYfGv9zi2WuvbucDcwtGi",
      "include_colab_link": true
    },
    "kernelspec": {
      "name": "python3",
      "display_name": "Python 3"
    },
    "language_info": {
      "name": "python"
    }
  },
  "cells": [
    {
      "cell_type": "markdown",
      "metadata": {
        "id": "view-in-github",
        "colab_type": "text"
      },
      "source": [
        "<a href=\"https://colab.research.google.com/github/DarYaN2/Math/blob/main/Untitled1.ipynb\" target=\"_parent\"><img src=\"https://colab.research.google.com/assets/colab-badge.svg\" alt=\"Open In Colab\"/></a>"
      ]
    },
    {
      "cell_type": "code",
      "execution_count": null,
      "metadata": {
        "colab": {
          "base_uri": "https://localhost:8080/"
        },
        "id": "weLqteKnIX5r",
        "outputId": "e2cf87ec-263f-41fb-ca5a-89f8bc39606b"
      },
      "outputs": [
        {
          "output_type": "stream",
          "name": "stdout",
          "text": [
            "Bisection Method for Finding Roots\n",
            "Example: Enter 'math.sin(x) - x' for sin(x) - x = 0\n",
            "Enter the function: x**3 - 3 * x - 1\n",
            "Enter the left endpoint of the interval(a): -2\n",
            "Enter the right endpoint of the interval(b): 2\n",
            "Approximate root found at x = 1.8793859481811523\n"
          ]
        }
      ],
      "source": [
        "import math\n",
        "#coded by daryan dana\n",
        "def bisection_method(func, a, b, tol=1e-6, max_iter=100):\n",
        "    if func(a) * func(b) >= 0:\n",
        "        print(\"The function has the same sign at both interval endpoints.\")\n",
        "        return None\n",
        "\n",
        "    iteration = 0\n",
        "    while (b - a) / 2 > tol and iteration < max_iter:\n",
        "        midpoint = (a + b) / 2\n",
        "        if func(midpoint) == 0:\n",
        "            return midpoint  # Found exact root\n",
        "        elif func(a) * func(midpoint) < 0:\n",
        "            b = midpoint\n",
        "        else:\n",
        "            a = midpoint\n",
        "        iteration += 1\n",
        "\n",
        "    return (a + b) / 2\n",
        "\n",
        "def get_user_function():\n",
        "    function_str = input(\"Enter the function: \")\n",
        "    try:\n",
        "        # Create a lambda function from the user input\n",
        "        user_function = lambda x: eval(function_str, {'math': math}, {'x': x})\n",
        "        return user_function\n",
        "    except Exception as e:\n",
        "        print(\"Error in the input function:\", e)\n",
        "        return None\n",
        "\n",
        "def get_user_intervals():\n",
        "    a = float(input(\"Enter the left endpoint of the interval(a): \"))\n",
        "    b = float(input(\"Enter the right endpoint of the interval(b): \"))\n",
        "    return a, b\n",
        "\n",
        "if __name__ == \"__main__\":\n",
        "    print(\"Bisection Method for Finding Roots\")\n",
        "    print(\"Example: Enter 'math.sin(x) - x' for sin(x) - x = 0\")\n",
        "\n",
        "    user_func = get_user_function()\n",
        "    if user_func is None:\n",
        "        exit()\n",
        "\n",
        "    interval_a, interval_b = get_user_intervals()\n",
        "\n",
        "    root = bisection_method(user_func, interval_a, interval_b)\n",
        "    if root is None:\n",
        "        print(\"No root found in the given interval.\")\n",
        "    else:\n",
        "        print(f\"Approximate root found at x = {root}\")\n"
      ]
    }
  ]
}